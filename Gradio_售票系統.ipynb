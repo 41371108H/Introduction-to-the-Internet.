{
  "cells": [
    {
      "cell_type": "markdown",
      "metadata": {
        "id": "view-in-github",
        "colab_type": "text"
      },
      "source": [
        "<a href=\"https://colab.research.google.com/github/41371108H/114-1repo/blob/main/Gradio_%E5%94%AE%E7%A5%A8%E7%B3%BB%E7%B5%B1.ipynb\" target=\"_parent\"><img src=\"https://colab.research.google.com/assets/colab-badge.svg\" alt=\"Open In Colab\"/></a>"
      ]
    },
    {
      "cell_type": "code",
      "source": [
        "import datetime\n",
        "import pandas as pd\n",
        "import gspread\n",
        "from google.colab import auth\n",
        "from google.auth import default\n",
        "import gradio as gr\n",
        "\n",
        "# --- 認證 Google Colab 環境 ---\n",
        "auth.authenticate_user()\n",
        "creds, _ = default()\n",
        "gc = gspread.authorize(creds)\n",
        "\n",
        "# --- 展覽代號與資訊 ---\n",
        "exhibitions = {\n",
        "    'A': {'name': '台北國際電玩展', 'price': 300},\n",
        "    'B': {'name': '台灣文博會', 'price': 250},\n",
        "    'C': {'name': '設計師週', 'price': 400},\n",
        "    'D': {'name': '台北車展', 'price': 350}\n",
        "}\n",
        "\n",
        "# --- 連線到 Google 試算表 ---\n",
        "try:\n",
        "    gsheets = gc.open_by_url('https://docs.google.com/spreadsheets/d/1YmuPBSwZVq0m0-lwpsjCEcyXik3WVeE7a23sRin5ojw/edit?usp=sharing')\n",
        "    worksheet = gsheets.worksheet('工作表1')\n",
        "    sheets_data = worksheet.get_all_values()\n",
        "    df = pd.DataFrame(sheets_data[1:], columns=sheets_data[0])\n",
        "\n",
        "    # 確保數字欄位轉換正確\n",
        "    if not df.empty:\n",
        "        df['單價'] = df['單價'].astype(int)\n",
        "        df['購買張數'] = df['購買張數'].astype(int)\n",
        "        df['購買款項 (總價)'] = df['購買款項 (總價)'].astype(int)\n",
        "\n",
        "except Exception as e:\n",
        "    print(\"⚠️ 載入試算表失敗：\", e)\n",
        "    worksheet = None\n",
        "    df = pd.DataFrame(columns=['姓名','購買日期','展覽名稱','單價','購買張數','購買款項 (總價)'])\n",
        "\n",
        "# --- Gradio 互動函式 ---\n",
        "def purchase_ticket(name, date, exhibition_code, num_tickets):\n",
        "    global df\n",
        "    try:\n",
        "        # 驗證日期\n",
        "        datetime.datetime.strptime(date, \"%Y-%m-%d\")\n",
        "    except:\n",
        "        return \"❌ 日期格式錯誤 (YYYY-MM-DD)\", df\n",
        "\n",
        "    # 驗證代號\n",
        "    if exhibition_code not in exhibitions:\n",
        "        return \"❌ 無效的展覽代號\", df\n",
        "\n",
        "    # 驗證張數\n",
        "    try:\n",
        "        num_tickets = int(num_tickets)\n",
        "        if num_tickets <= 0:\n",
        "            return \"❌ 張數必須大於 0\", df\n",
        "    except:\n",
        "        return \"❌ 張數必須為數字\", df\n",
        "\n",
        "    info = exhibitions[exhibition_code]\n",
        "    total_price = info['price'] * num_tickets\n",
        "\n",
        "    record = {\n",
        "        '姓名': name,\n",
        "        '購買日期': date,\n",
        "        '展覽名稱': info['name'],\n",
        "        '單價': info['price'],\n",
        "        '購買張數': num_tickets,\n",
        "        '購買款項 (總價)': total_price\n",
        "    }\n",
        "\n",
        "    # 寫入 Google Sheet\n",
        "    if worksheet:\n",
        "        try:\n",
        "            worksheet.append_row(list(record.values()))\n",
        "        except Exception as e:\n",
        "            return f\"⚠️ 寫入 Google Sheet 失敗：{e}\", df\n",
        "\n",
        "    # 更新本地 DataFrame\n",
        "    df = pd.concat([df, pd.DataFrame([record])], ignore_index=True)\n",
        "\n",
        "    summary = f\"✅ 購買成功！\\n- 姓名: {name}\\n- 展覽: {info['name']}\\n- 張數: {num_tickets}\\n- 總金額: ${total_price}\"\n",
        "    return summary, df\n",
        "\n",
        "# --- Gradio 介面 ---\n",
        "with gr.Blocks() as demo:\n",
        "    gr.Markdown(\"## 🎟️ 展覽售票系統 (Gradio 版本)\")\n",
        "    gr.Markdown(\"請輸入購票資訊：\")\n",
        "\n",
        "    with gr.Row():\n",
        "        name = gr.Textbox(label=\"姓名\")\n",
        "        date = gr.Textbox(label=\"購票日期 (YYYY-MM-DD)\")\n",
        "    with gr.Row():\n",
        "        exhibition_code = gr.Dropdown(choices=list(exhibitions.keys()), label=\"展覽代號 (A/B/C/D)\")\n",
        "        num_tickets = gr.Number(label=\"購買張數\", precision=0)\n",
        "\n",
        "    submit = gr.Button(\"購買\")\n",
        "    output_msg = gr.Textbox(label=\"結果\")\n",
        "    output_df = gr.Dataframe(label=\"目前售票紀錄\", interactive=False)\n",
        "\n",
        "    submit.click(purchase_ticket,\n",
        "                 inputs=[name, date, exhibition_code, num_tickets],\n",
        "                 outputs=[output_msg, output_df])\n",
        "\n",
        "demo.launch()\n"
      ],
      "metadata": {
        "colab": {
          "base_uri": "https://localhost:8080/",
          "height": 645
        },
        "id": "xH_NlzDHRWai",
        "outputId": "57107005-5372-4e5b-deb8-e8d0b0dd49dd"
      },
      "execution_count": 1,
      "outputs": [
        {
          "output_type": "stream",
          "name": "stdout",
          "text": [
            "It looks like you are running Gradio on a hosted Jupyter notebook, which requires `share=True`. Automatically setting `share=True` (you can turn this off by setting `share=False` in `launch()` explicitly).\n",
            "\n",
            "Colab notebook detected. To show errors in colab notebook, set debug=True in launch()\n",
            "* Running on public URL: https://b26a778091f32f6ef1.gradio.live\n",
            "\n",
            "This share link expires in 1 week. For free permanent hosting and GPU upgrades, run `gradio deploy` from the terminal in the working directory to deploy to Hugging Face Spaces (https://huggingface.co/spaces)\n"
          ]
        },
        {
          "output_type": "display_data",
          "data": {
            "text/plain": [
              "<IPython.core.display.HTML object>"
            ],
            "text/html": [
              "<div><iframe src=\"https://b26a778091f32f6ef1.gradio.live\" width=\"100%\" height=\"500\" allow=\"autoplay; camera; microphone; clipboard-read; clipboard-write;\" frameborder=\"0\" allowfullscreen></iframe></div>"
            ]
          },
          "metadata": {}
        },
        {
          "output_type": "execute_result",
          "data": {
            "text/plain": []
          },
          "metadata": {},
          "execution_count": 1
        }
      ]
    }
  ],
  "metadata": {
    "colab": {
      "provenance": [],
      "include_colab_link": true
    },
    "kernelspec": {
      "display_name": "Python 3",
      "name": "python3"
    }
  },
  "nbformat": 4,
  "nbformat_minor": 0
}